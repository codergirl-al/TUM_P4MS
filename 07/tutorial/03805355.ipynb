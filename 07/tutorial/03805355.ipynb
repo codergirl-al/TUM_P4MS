{
  "cells": [
    {
      "cell_type": "markdown",
      "metadata": {
        "id": "3Dm5jIXuS_1R"
      },
      "source": [
        "# Tutorial 7: Introduction to Pandas\n",
        "\n",
        "## Background\n",
        "\n",
        "At Heilbronn Hospital, the ICU department maintains detailed electronic health records (EHRs) of patient data to improve treatment outcomes. You are part of the **Medical Data Science** team tasked with analyzing a historical ICU dataset to uncover meaningful patterns that could enhance patient care protocols.\n",
        "\n",
        "Using Python's `Pandas` library, you will learn to manipulate and analyze real-world healthcare data, transforming raw information into actionable insights for the medical staff."
      ]
    },
    {
      "cell_type": "markdown",
      "metadata": {
        "id": "ztsbH-mCTOSk"
      },
      "source": [
        "1. The ICU department has provided their historical patient data in a CSV format ('icu_data_example.csv'). As your first task, import this dataset into a Pandas DataFrame and display the first five rows to verify the data structure and ensure it has been loaded correctly. This will be the foundation for our analysis of patient records.\n"
      ]
    },
    {
      "cell_type": "code",
      "execution_count": null,
      "metadata": {
        "id": "rJPYvJCKTO7B"
      },
      "outputs": [],
      "source": [
        "import pandas as pd\n",
        "\n",
        "df_csv = pd.read_csv('icu_data_example.csv')\n",
        "df_csv.head()"
      ]
    },
    {
      "cell_type": "markdown",
      "metadata": {
        "id": "-vKBK0AeTQBd"
      },
      "source": [
        "2. The hospital's IT team has also maintained a backup of the same data in Excel format ('icu_data_example.xlsx'). To ensure data consistency, import this Excel file and display its first five rows. This redundancy check is crucial for maintaining data integrity in medical records.\n"
      ]
    },
    {
      "cell_type": "code",
      "execution_count": null,
      "metadata": {
        "id": "RZx-0eMRTQfp"
      },
      "outputs": [],
      "source": [
        "import pandas as pd\n",
        "\n",
        "df_excel = pd.read_excel('icu_data_example.xlsx')\n",
        "df_excel.head()"
      ]
    },
    {
      "cell_type": "markdown",
      "metadata": {
        "id": "ynhpMKIFTRt-"
      },
      "source": [
        "3. The medical team is particularly interested in studying patients with higher body mass, as they often require special care protocols. Filter the DataFrame to include only records of patients whose weight is above 85 kg. This will help identify patterns specific to this patient group.\n"
      ]
    },
    {
      "cell_type": "code",
      "execution_count": null,
      "metadata": {
        "id": "rmRczK18TR98"
      },
      "outputs": [],
      "source": [
        "import pandas as pd\n",
        "\n",
        "df = pd.read_csv('icu_data_example.csv')\n",
        "\n",
        "df_filtered = df['weight'] > 85\n",
        "\n",
        "df_filtered = df[df['weight'] > 85]\n",
        "df_sorted = df_filtered.sort_values(['age', 'los'], ascending=[False, True])\n",
        "\n",
        "df_sorted.to_excel('processed_icu_data.xlsx', sheet_name='Processed ICU Data', index=False)\n"
      ]
    },
    {
      "cell_type": "markdown",
      "metadata": {
        "id": "4f-pnL0LTTKh"
      },
      "source": [
        "4. To better understand the relationship between patient age and length of ICU stay, sort the filtered data by the patient's age in descending order and by the length of ICU stay in ascending order. Display the top 10 rows of the sorted DataFrame. This will help identify if older patients typically require longer ICU stays.\n"
      ]
    },
    {
      "cell_type": "code",
      "execution_count": null,
      "metadata": {
        "id": "RkvMPrv7TTaG"
      },
      "outputs": [],
      "source": [
        "import pandas as pd\n",
        "\n",
        "df = pd.read_csv('icu_data_example.csv')\n",
        "\n",
        "df_sorted = df.sort_values(by=['age', 'los'], ascending=[False, True])\n",
        "df_sorted.head(10)"
      ]
    },
    {
      "cell_type": "markdown",
      "metadata": {
        "id": "ZGWSCVtXTUvc"
      },
      "source": [
        "5. For resource planning purposes, calculate the average age of patients in the filtered dataset. This demographic information will help the ICU department better prepare for the specific needs of their patient population.\n"
      ]
    },
    {
      "cell_type": "code",
      "execution_count": null,
      "metadata": {
        "id": "FcZW0BG4TVCX"
      },
      "outputs": [],
      "source": [
        "import pandas as pd\n",
        "\n",
        "df = pd.read_csv('icu_data_example.csv')\n",
        "\n",
        "average_age = df['age'].mean()\n",
        "average_age\n"
      ]
    },
    {
      "cell_type": "markdown",
      "metadata": {
        "id": "WO5S-zS1TWLU"
      },
      "source": [
        "6. To share your findings with the medical staff, export the final DataFrame to a new file named 'processed_icu_data.csv'. This processed dataset will be used in the hospital's monthly review meeting.\n"
      ]
    },
    {
      "cell_type": "code",
      "execution_count": null,
      "metadata": {
        "id": "YMfXs-vXTWa4"
      },
      "outputs": [],
      "source": [
        "import pandas as pd\n",
        "\n",
        "df = pd.read_csv('icu_data_example.csv')\n",
        "df_filtered = df[df['weight'] > 85]\n",
        "df_sorted = df_filtered.sort_values(by=['age', 'los'], ascending=[False, True])\n",
        "df_sorted.to_csv('processed_icu_data.csv', index=False)"
      ]
    },
    {
      "cell_type": "markdown",
      "metadata": {
        "id": "3-RKbNYdTW5t"
      },
      "source": [
        "7. Some hospital staff prefer working with Excel. Create an Excel version of your analysis by exporting the same DataFrame to 'processed_icu_data.xlsx', with a sheet named 'Processed ICU Data'. This will ensure all team members can access the information in their preferred format.\n"
      ]
    },
    {
      "cell_type": "code",
      "execution_count": null,
      "metadata": {
        "id": "dEiRvzd7TYAX"
      },
      "outputs": [],
      "source": [
        "import pandas as pd\n",
        "\n",
        "df = pd.read_csv('icu_data_example.csv')\n",
        "df_filtered = df[df['weight'] > 85]\n",
        "df_sorted = df_filtered.sort_values(by=['age', 'los'], ascending=[False, True])\n",
        "df_sorted.to_excel('processed_icu_data.xlsx', sheet_name='Processed ICU Data', index=False)"
      ]
    },
    {
      "cell_type": "markdown",
      "metadata": {},
      "source": []
    }
  ],
  "metadata": {
    "colab": {
      "provenance": []
    },
    "kernelspec": {
      "display_name": "Python 3",
      "name": "python3"
    },
    "language_info": {
      "codemirror_mode": {
        "name": "ipython",
        "version": 3
      },
      "file_extension": ".py",
      "mimetype": "text/x-python",
      "name": "python",
      "nbconvert_exporter": "python",
      "pygments_lexer": "ipython3",
      "version": "3.9.6"
    }
  },
  "nbformat": 4,
  "nbformat_minor": 0
}
