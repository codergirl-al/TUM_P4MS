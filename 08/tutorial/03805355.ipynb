{
  "nbformat": 4,
  "nbformat_minor": 0,
  "metadata": {
    "colab": {
      "provenance": [],
      "toc_visible": true
    },
    "kernelspec": {
      "name": "python3",
      "display_name": "Python 3"
    },
    "language_info": {
      "name": "python"
    }
  },
  "cells": [
    {
      "cell_type": "markdown",
      "source": [
        "# Tutorial 8: Exploratory Data Analysis\n",
        "\n",
        "## Background\n",
        "\n",
        "As a data scientist at Heilbronn Hospital, you've been tasked with conducting a thorough exploratory data analysis (EDA) of patient records. The medical team needs to understand patterns in patient care, identify data quality issues, and gain insights that could lead to improved treatment protocols. Your analysis will help the hospital make data-driven decisions about resource allocation and patient care strategies."
      ],
      "metadata": {
        "id": "wkxgAuMNbRWr"
      }
    },
    {
      "cell_type": "markdown",
      "source": [
        "1. Data Quality Assessment: The ICU's electronic health records system occasionally has gaps in data collection due to emergency situations or equipment issues. Import the dataset 'icu_data_example.csv' into a DataFrame, then identify which vital signs and patient information are most frequently missing by calculating the percentage of missing values in each column. This analysis will help the hospital improve their data collection protocols.\n"
      ],
      "metadata": {
        "id": "eBADXmdpbVdv"
      }
    },
    {
      "cell_type": "code",
      "source": [
        "import pandas as pd\n",
        "\n",
        "df = pd.read_csv('../icu_data_example.csv')\n",
        "\n",
        "missing_percentages = df.isnull().mean() * 100\n",
        "\n",
        "missing_percentages_sorted = missing_percentages.sort_values(ascending=False)\n",
        "\n",
        "print(missing_percentages_sorted)\n"
      ],
      "metadata": {
        "id": "BGKkwr5RbT-M"
      },
      "execution_count": null,
      "outputs": []
    },
    {
      "cell_type": "markdown",
      "source": [
        "2. Data Imputation Strategy: For accurate patient assessment, we need to handle missing data carefully. Implement a for-loop to iterate over all vital sign measurements and replace missing values with the median of the respective column, but only where the missing data is below 20%. This conservative approach ensures we only fill in gaps where we have sufficient reliable data to make educated estimates.\n"
      ],
      "metadata": {
        "id": "G9HOFb9SbW6R"
      }
    },
    {
      "cell_type": "code",
      "source": [
        "import pandas as pd\n",
        "\n",
        "df = pd.read_csv('../icu_data_example.csv')\n",
        "vital_sign_cols = df.select_dtypes(include=['float64', 'int64']).columns\n",
        "\n",
        "#prettifying the output\n",
        "GREEN = \"\\033[92m\"\n",
        "RED = \"\\033[91m\"\n",
        "RESET = \"\\033[0m\"\n",
        "\n",
        "for col in vital_sign_cols:\n",
        "    missing_pct = df[col].isnull().mean() * 100\n",
        "    if missing_pct < 20:\n",
        "        median_value = df[col].median()\n",
        "        df.fillna({col: median_value}, inplace=True)\n",
        "        print(f\"{GREEN}Imputed '{col}' with median ({median_value}) - missingness {missing_pct:.2f}%{RESET}\")\n",
        "    else:\n",
        "        print(f\"{RED}Skipped '{col}' - missingness {missing_pct:.2f}%{RESET}\")"
      ],
      "metadata": {
        "id": "XIkTqrhqbXN7"
      },
      "execution_count": null,
      "outputs": []
    },
    {
      "cell_type": "markdown",
      "source": [
        "3. Outlier Detection: Medical equipment sometimes produces erroneous readings, and transcription errors can occur. Use the Interquartile Range (IQR) method to identify potentially abnormal values in patients' 'weight' and 'Heart Rate' measurements. This will help the medical team verify these readings and ensure accurate patient monitoring.\n"
      ],
      "metadata": {
        "id": "WsmhLx5JbYRt"
      }
    },
    {
      "cell_type": "code",
      "source": [
        "import pandas as pd\n",
        "\n",
        "df = pd.read_csv('../icu_data_example.csv')\n",
        "\n",
        "checkcols = [\"weight\", \"Heart Rate\"]\n",
        "\n",
        "pos_outlier = {}\n",
        "\n",
        "for col in checkcols:\n",
        "    col_data = df[col].dropna()\n",
        "    Q1 = col_data.quantile(0.25)\n",
        "    Q3 = col_data.quantile(0.75)\n",
        "    IQR = Q3 - Q1\n",
        "    lower_bound = Q1 - 1.5 * IQR\n",
        "    upper_bound = Q3 + 1.5 * IQR\n",
        "    outliers = df[(df[col] < lower_bound) | (df[col] > upper_bound)]\n",
        "    pos_outlier[col] = outliers.index.tolist()\n",
        "    print(f\"\\nColumn: {col}\")\n",
        "    print(f\"Q1: {Q1}\")\n",
        "    print(f\"Q3: {Q3}\")\n",
        "    print(f\"IQR: {IQR}\")\n",
        "    print(f\"Lower bound: {lower_bound}\")\n",
        "    print(f\"Upper bound: {upper_bound}\")\n",
        "    print(f\"Outliers: {outliers.shape[0]}\")"
      ],
      "metadata": {
        "id": "Q-UWbuafbYkA"
      },
      "execution_count": null,
      "outputs": []
    },
    {
      "cell_type": "markdown",
      "source": [
        "4. Age Group Analysis: To better understand the demographics of ICU admissions, create a new column that categorizes patients into clinically relevant age groups (0-20, 21-40, 41-60, etc.). This categorization will help the hospital plan age-specific care protocols and resource allocation.\n"
      ],
      "metadata": {
        "id": "HpApna5fbZn8"
      }
    },
    {
      "cell_type": "code",
      "source": [
        "import pandas as pd\n",
        "\n",
        "df = pd.read_csv('../icu_data_example.csv')\n",
        "\n",
        "bins = [0, 20, 40, 60, 80, 100]\n",
        "labels = ['0-20', '21-40', '41-60', '61-80', '81-100']\n",
        "\n",
        "df['AgeGroup'] = pd.cut(df['age'], bins=bins, labels=labels, right=True, include_lowest=True)\n",
        "\n",
        "print(df['AgeGroup'].value_counts().sort_index())"
      ],
      "metadata": {
        "id": "fuOCop0obZ3y"
      },
      "execution_count": null,
      "outputs": []
    },
    {
      "cell_type": "markdown",
      "source": [
        "5. Gender-based Analysis: The medical team wants to investigate if there are gender-specific patterns in ICU care. Group the data by gender and calculate the median length of ICU stay for each group. This analysis could reveal if certain gender-specific health factors influence recovery time."
      ],
      "metadata": {
        "id": "jpp-2BbSbau8"
      }
    },
    {
      "cell_type": "code",
      "source": [
        "import pandas as pd\n",
        "\n",
        "df = pd.read_csv('../icu_data_example.csv')\n",
        "\n",
        "st_by_gender = df.groupby('gender')['los'].median()\n",
        "print(\"Median ICU Stay by Gender:\")\n",
        "print(st_by_gender)"
      ],
      "metadata": {
        "id": "NuYwP875ba7O"
      },
      "execution_count": null,
      "outputs": []
    },
    {
      "cell_type": "markdown",
      "source": [
        "6. Length of Stay Classification: For better resource planning, create a new column that categorizes ICU stays into three groups: Short (<5 days), Medium (5-10 days), and Long (>10 days). Count the number of patients in each category. This information will help the hospital optimize bed allocation and staffing levels.\n"
      ],
      "metadata": {
        "id": "46GGPpzsbcZX"
      }
    },
    {
      "cell_type": "code",
      "source": [
        "import pandas as pd\n",
        "\n",
        "df = pd.read_csv('../icu_data_example.csv')\n",
        "\n",
        "def classify_stay(days):\n",
        "    if pd.isnull(days):\n",
        "        return 'Unknown'\n",
        "    elif days < 5:\n",
        "        return 'Short'\n",
        "    elif 5 <= days <= 10:\n",
        "        return 'Medium'\n",
        "    else:\n",
        "        return 'Long'\n",
        "\n",
        "df['StayLengthCategory'] = df['los'].apply(classify_stay)\n",
        "stay_counts = df['StayLengthCategory'].value_counts()\n",
        "print(\"Patients per stay length category:\")\n",
        "print(stay_counts)"
      ],
      "metadata": {
        "id": "Ep3rjAf0bcpi"
      },
      "execution_count": null,
      "outputs": []
    },
    {
      "cell_type": "markdown",
      "source": [
        "7. Data Integration: The hospital maintains additional patient information in a separate file 'icu_data_additional.csv'. Merge this dataset with our main ICU data using a common patient identifier. This will provide a more comprehensive view of each patient's medical history and current condition.\n"
      ],
      "metadata": {
        "id": "ZI2MvviNbdjr"
      }
    },
    {
      "cell_type": "code",
      "source": [
        "import pandas as pd\n",
        "\n",
        "df = pd.read_csv('../icu_data_example.csv')\n",
        "additional_df = pd.read_csv('../icu_data_example.csv')\n",
        "\n",
        "merged_df = pd.merge(df, additional_df, how='left', on='stay_id')\n",
        "\n",
        "print(\"merged df shape:\", merged_df.shape)\n",
        "print(\"columns in merged df:\")\n",
        "print(merged_df.columns)"
      ],
      "metadata": {
        "id": "vKtZMfA3bdya"
      },
      "execution_count": null,
      "outputs": []
    },
    {
      "cell_type": "markdown",
      "source": [
        "8. Distribution Analysis: Create histograms of patient ages and heart rates using pandas or matplotlib. Understanding the distribution of these vital statistics will help medical staff better prepare for the typical patient profile and identify unusual cases that might need special attention.\n"
      ],
      "metadata": {
        "id": "3DUFoTfGbe0_"
      }
    },
    {
      "cell_type": "code",
      "source": [
        "import pandas as pd\n",
        "import matplotlib.pyplot as plt\n",
        "\n",
        "df = pd.read_csv('../icu_data_example.csv')\n",
        "\n",
        "plt.figure(figsize=(12, 5))\n",
        "plt.subplot(1, 2, 1)\n",
        "plt.hist(df['age'].dropna(), bins=20, color='skyblue', edgecolor='black')\n",
        "plt.xlabel('age')\n",
        "plt.ylabel('Patients number')\n",
        "plt.title('Distribution of patient ages')\n",
        "plt.subplot(1, 2, 2)\n",
        "plt.hist(df['Heart Rate'].dropna(), bins=20, color='salmon', edgecolor='black')\n",
        "plt.xlabel('Heart Rate')\n",
        "plt.ylabel('Number of patients')\n",
        "plt.title('Heart rates distribution')\n",
        "plt.tight_layout()\n",
        "plt.show()"
      ],
      "metadata": {
        "id": "jQ0FKhJobfHp"
      },
      "execution_count": null,
      "outputs": []
    }
  ]
}