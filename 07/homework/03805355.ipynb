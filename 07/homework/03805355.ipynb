{
  "cells": [
    {
      "cell_type": "markdown",
      "metadata": {
        "id": "2JKsuBYhZWci"
      },
      "source": [
        "# Homework 07\n",
        "\n",
        "To streamline future data exports, create a Python function that can handle different file formats. Define a function where you can specify the input file, save path, and save format (implementing the functionality from Q6 & Q7 in Tutorial). This will help automate regular data updates for the medical team. Remember to add proper documentation (docstrings) and type hints to ensure other team members can easily understand and use your function.\n"
      ]
    },
    {
      "cell_type": "code",
      "execution_count": 3,
      "metadata": {
        "id": "s0RoyvadZQ85"
      },
      "outputs": [],
      "source": [
        "from typing import Literal, Union\n",
        "import pandas as pd\n"
      ]
    },
    {
      "cell_type": "code",
      "execution_count": 4,
      "metadata": {
        "id": "rNmPM23YZWJ9"
      },
      "outputs": [],
      "source": [
        "import os\n",
        "import pandas as pd\n",
        "\n",
        "def save_data(dataframe: pd.DataFrame,\n",
        "              file_name: str,\n",
        "              save_path: str,\n",
        "              save_format: str) -> None:\n",
        "    \"\"\"\n",
        "    Save a pandas DataFrame to a specified path and format.\n",
        "    \"\"\"\n",
        "    full_path = os.path.join(save_path, f\"{file_name}.{save_format}\")\n",
        "\n",
        "    if save_format == 'csv':\n",
        "        dataframe.to_csv(full_path, index=False)\n",
        "    elif save_format == 'xlsx':\n",
        "        dataframe.to_excel(full_path, index=False)\n",
        "    else:\n",
        "        raise ValueError(\"Invalid format. Only 'csv' and 'xlsx' are supported.\")"
      ]
    }
  ],
  "metadata": {
    "colab": {
      "provenance": []
    },
    "kernelspec": {
      "display_name": "Python 3",
      "name": "python3"
    },
    "language_info": {
      "codemirror_mode": {
        "name": "ipython",
        "version": 3
      },
      "file_extension": ".py",
      "mimetype": "text/x-python",
      "name": "python",
      "nbconvert_exporter": "python",
      "pygments_lexer": "ipython3",
      "version": "3.9.6"
    }
  },
  "nbformat": 4,
  "nbformat_minor": 0
}
