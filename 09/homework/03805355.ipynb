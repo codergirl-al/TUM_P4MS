{
  "cells": [
    {
      "cell_type": "markdown",
      "metadata": {
        "id": "WVLexlwxfHPh"
      },
      "source": [
        "# Tutorial 9: Descriptive Machine Learning\n",
        "\n",
        "## Background\n",
        "\n",
        "At Heilbronn Hospital's ICU department, the medical team is looking to develop predictive models to better estimate patient length of stay (LOS). Accurate LOS predictions are crucial for resource planning, staff scheduling, and improving patient care coordination. As a data scientist on the team, you'll use machine learning techniques to analyze historical patient data and build models that can help the hospital make more informed decisions about resource allocation and patient care management."
      ]
    },
    {
      "cell_type": "markdown",
      "metadata": {
        "id": "-G2W2cv5fM1p"
      },
      "source": [
        "1. Data Preparation: To begin our predictive modeling project, import the historical ICU data from 'icu_data_example.csv'. Following best practices in machine learning, use `scikit-learn` to split the data into training and testing sets. This split will allow us to develop our model on one portion of the data and validate its performance on unseen cases, similar to how the model would perform on future ICU admissions.\n"
      ]
    },
    {
      "cell_type": "code",
      "execution_count": null,
      "metadata": {
        "id": "g9qHSr6zfNLy"
      },
      "outputs": [],
      "source": [
        "import pandas as pd\n",
        "from sklearn.model_selection import train_test_split\n",
        "from sklearn.impute import SimpleImputer\n",
        "from sklearn.preprocessing import OneHotEncoder\n",
        "from sklearn.compose import ColumnTransformer\n",
        "from sklearn.pipeline import Pipeline\n",
        "from sklearn.linear_model import LinearRegression\n",
        "from sklearn.metrics import mean_squared_error, r2_score\n",
        "\n",
        "df = pd.read_csv(\"icu_data_example.csv\")\n",
        "df = df.drop(columns=['stay_id'])\n",
        "\n",
        "X = df.drop(columns=['los'])\n",
        "y = df['los']\n",
        "\n",
        "numeric_features = X.select_dtypes(include=['int64', 'float64']).columns.tolist()\n",
        "categorical_features = X.select_dtypes(include=['object']).columns.tolist()\n",
        "\n",
        "numeric_transformer = SimpleImputer(strategy='mean')\n",
        "categorical_transformer = OneHotEncoder(drop='first')\n",
        "\n",
        "preprocessor = ColumnTransformer(\n",
        "    transformers=[\n",
        "        ('num', numeric_transformer, numeric_features),\n",
        "        ('cat', categorical_transformer, categorical_features)\n",
        "    ])\n",
        "\n",
        "pipeline = Pipeline(steps=[\n",
        "    ('preprocessor', preprocessor),\n",
        "    ('model', LinearRegression())\n",
        "])\n",
        "\n",
        "X_train, X_test, y_train, y_test = train_test_split(X, y, test_size=0.2, random_state=42)\n",
        "\n",
        "pipeline.fit(X_train, y_train)\n",
        "\n",
        "y_pred = pipeline.predict(X_test)\n",
        "\n",
        "mse = mean_squared_error(y_test, y_pred)\n",
        "r2 = r2_score(y_test, y_pred)\n",
        "\n",
        "print(f\"Mean Squared Error (MSE): {mse:.2f}\")\n",
        "print(f\"R² Score: {r2:.2f}\")"
      ]
    },
    {
      "cell_type": "markdown",
      "metadata": {
        "id": "0igxBM8mfOVt"
      },
      "source": [
        "2. Initial Model Development: The ICU team wants to understand how patient characteristics influence length of stay. Using `scikit-learn`, implement a simple linear regression model to predict the 'los' (length of stay) based on key patient metrics such as age and weight. This baseline model will help us identify the most significant factors affecting a patient's hospital stay duration.\n"
      ]
    },
    {
      "cell_type": "code",
      "execution_count": null,
      "metadata": {
        "id": "WCvLyUw3fOlz"
      },
      "outputs": [],
      "source": [
        "import pandas as pd\n",
        "from sklearn.linear_model import LinearRegression\n",
        "from sklearn.model_selection import train_test_split\n",
        "from sklearn.metrics import mean_squared_error, r2_score\n",
        "\n",
        "df = pd.read_csv(\"icu_data_example.csv\")\n",
        "\n",
        "X = df[['age', 'weight']]\n",
        "y = df['los']\n",
        "\n",
        "X = X.fillna(X.mean())\n",
        "\n",
        "X_train, X_test, y_train, y_test = train_test_split(X, y, test_size=0.2, random_state=42)\n",
        "\n",
        "model = LinearRegression()\n",
        "model.fit(X_train, y_train)\n",
        "\n",
        "y_pred = model.predict(X_test)\n",
        "\n",
        "mse = mean_squared_error(y_test, y_pred)\n",
        "r2 = r2_score(y_test, y_pred)\n",
        "\n",
        "print(\"Linear Regression using age and weight\")\n",
        "print(f\"Mean Squared Error (MSE): {mse:.2f}\")\n",
        "print(f\"R² Score: {r2:.2f}\")\n",
        "print(\"Model Coefficients:\")\n",
        "print(f\"  Age coefficient: {model.coef_[0]:.4f}\")\n",
        "print(f\"  Weight coefficient: {model.coef_[1]:.4f}\")\n",
        "print(f\"  Intercept: {model.intercept_:.4f}\")"
      ]
    },
    {
      "cell_type": "markdown",
      "metadata": {
        "id": "prfbvs2xfPsh"
      },
      "source": [
        "3. Model Evaluation: To assess how well our model might perform in real-world scenarios, evaluate its predictions on the testing data using the mean squared error metric. This will give the medical team a concrete measure of the model's accuracy in predicting length of stay, helping them understand the reliability of the predictions for resource planning.\n"
      ]
    },
    {
      "cell_type": "markdown",
      "metadata": {
        "id": "Rak-e6ewfS1C"
      },
      "source": [
        "- Optional Investigation: The medical team is particularly interested in understanding which patient characteristics have the strongest influence on length of stay. How can we examine the detailed model coefficients to identify these key factors?\n"
      ]
    },
    {
      "cell_type": "code",
      "execution_count": null,
      "metadata": {
        "id": "-YVnYbW_fRG6"
      },
      "outputs": [],
      "source": [
        "from sklearn.metrics import mean_squared_error\n",
        "\n",
        "mse = mean_squared_error(y_test, y_pred)\n",
        "\n",
        "print(\"Model Evaluation on Test Data\")\n",
        "print(f\"Mean Squared Error (MSE): {mse:.2f}\")"
      ]
    },
    {
      "cell_type": "markdown",
      "metadata": {
        "id": "HOTWU8u0fUkI"
      },
      "source": [
        "4. Advanced Statistical Analysis: For a more detailed statistical analysis, use `StatsModels` to fit another linear regression model. This library will provide additional statistical insights that the medical team can use to validate their clinical assumptions about factors affecting length of stay.\n"
      ]
    },
    {
      "cell_type": "code",
      "execution_count": null,
      "metadata": {
        "id": "yA9vExIFfU5c"
      },
      "outputs": [],
      "source": [
        "import pandas as pd\n",
        "import statsmodels.api as sm\n",
        "\n",
        "df = pd.read_csv(\"icu_data_example.csv\")\n",
        "\n",
        "X = df[['age', 'weight']]\n",
        "y = df['los']\n",
        "\n",
        "X = X.fillna(X.mean())\n",
        "y = y.fillna(y.mean())\n",
        "\n",
        "X_with_const = sm.add_constant(X)\n",
        "\n",
        "model = sm.OLS(y, X_with_const).fit()\n",
        "\n",
        "print(model.summary())"
      ]
    },
    {
      "cell_type": "markdown",
      "metadata": {
        "id": "wpK-sjaqfV7t"
      },
      "source": [
        "5. Clinical Interpretation: The hospital's research team needs a detailed interpretation of how each patient factor affects length of stay. Analyze the regression coefficients, discuss their statistical significance, and evaluate the overall model fit using the R-squared value. This analysis will help clinicians understand which patient characteristics are most predictive of extended ICU stays.\n"
      ]
    },
    {
      "cell_type": "code",
      "execution_count": null,
      "metadata": {
        "id": "pmiaAhvNfWHa"
      },
      "outputs": [],
      "source": [
        "model = sm.OLS(y, sm.add_constant(X)).fit()\n",
        "print(model.summary())"
      ]
    },
    {
      "cell_type": "markdown",
      "metadata": {
        "id": "fNm3YJcbfXUa"
      },
      "source": [
        "6. Handling Categorical Data: The ICU dataset includes various categorical variables such as admission type and patient status. Use `Pandas` or `scikit-learn` to perform one-hot encoding on these categorical variables, making them suitable for our machine learning model while preserving their clinical significance.\n"
      ]
    },
    {
      "cell_type": "code",
      "execution_count": null,
      "metadata": {
        "id": "L05ENQh8fXtW"
      },
      "outputs": [],
      "source": [
        "import pandas as pd\n",
        "\n",
        "df = pd.read_csv(\"icu_data_example.csv\")\n",
        "\n",
        "categorical_cols = df.select_dtypes(include='object').columns\n",
        "print(\"Categorical columns:\", categorical_cols.tolist())\n",
        "\n",
        "df_encoded = pd.get_dummies(df, columns=categorical_cols, drop_first=True)\n",
        "\n",
        "print(df_encoded.head())"
      ]
    },
    {
      "cell_type": "markdown",
      "metadata": {
        "id": "dOsfxTVdfYxb"
      },
      "source": [
        "7. Feature Standardization: Our ICU measurements (age, weight, Heart Rate, Arterial O2 pressure, Magnesium, HCO3 (serum), and PH (Arterial)) are recorded in different units and scales. Standardize these features to ensure each variable contributes appropriately to the model's predictions, preventing any single measurement from dominating the analysis due to its scale.\n"
      ]
    },
    {
      "cell_type": "code",
      "execution_count": null,
      "metadata": {
        "id": "iMt-oskOfY_6"
      },
      "outputs": [],
      "source": [
        "import pandas as pd\n",
        "from sklearn.preprocessing import StandardScaler\n",
        "\n",
        "df = pd.read_csv(\"icu_data_example.csv\")\n",
        "\n",
        "features_to_scale = [\n",
        "    'age', 'weight', 'Heart Rate', 'Arterial O2 pressure',\n",
        "    'Magnesium', 'HCO3 (serum)', 'PH (Arterial)'\n",
        "]\n",
        "\n",
        "df_scaled = df.copy()\n",
        "df_scaled[features_to_scale] = df_scaled[features_to_scale].fillna(df_scaled[features_to_scale].mean())\n",
        "\n",
        "scaler = StandardScaler()\n",
        "df_scaled[features_to_scale] = scaler.fit_transform(df_scaled[features_to_scale])\n",
        "\n",
        "print(df_scaled[features_to_scale].head())"
      ]
    },
    {
      "cell_type": "markdown",
      "metadata": {
        "id": "qOgVPmieg-LL"
      },
      "source": [
        "# Homework 09\n",
        "8. Comprehensive Model Development:\n",
        "\n",
        "The hospital administration has requested a robust, production-ready model for predicting ICU length of stay. Using both `scikit-learn` and `StatsModels`, develop comprehensive linear regression models that account for all aspects of real-world medical data. Your workflow must include:\n",
        "\n",
        "- Handling missing values appropriately, considering the clinical significance of missing data\n",
        "- Identifying and managing abnormal or outlier measurements that could be equipment errors or unusual patient cases\n",
        "- Encoding categorical variables effectively while preserving their medical meaning\n",
        "- Addressing scale differences between various vital signs and lab measurements\n",
        "\n",
        "To ensure maintainability and flexibility, create separate Python functions for each preprocessing step (missing value imputation, outlier handling, categorical encoding, and feature scaling). These functions should be parameterized to allow different methods to be applied based on future requirements or medical staff feedback.\n"
      ]
    },
    {
      "cell_type": "code",
      "execution_count": null,
      "metadata": {
        "id": "tXJP0xzPhCZb"
      },
      "outputs": [],
      "source": [
        "import pandas as pd\n",
        "import numpy as np\n",
        "from sklearn.linear_model import LinearRegression\n",
        "from sklearn.preprocessing import StandardScaler\n",
        "from sklearn.impute import SimpleImputer\n",
        "from sklearn.model_selection import train_test_split\n",
        "from sklearn.metrics import mean_squared_error, r2_score\n",
        "import statsmodels.api as sm\n",
        "\n",
        "# FUNCTION 1\n",
        "# Handling missing values appropriately and considering the clinical significance of missing data\n",
        "def impute_missing(df, strategy='mean', columns=None):\n",
        "    df_copy = df.copy()\n",
        "    if columns is None:\n",
        "        columns = df_copy.select_dtypes(include=[np.number]).columns.tolist()\n",
        "    imputer = SimpleImputer(strategy=strategy)\n",
        "    df_copy[columns] = imputer.fit_transform(df_copy[columns])\n",
        "    return df_copy\n",
        "\n",
        "# FUNCTION 2\n",
        "# Identifying and managing outlier measurements\n",
        "def remove_outliers(df, columns, z_thresh=3):\n",
        "    df_copy = df.copy()\n",
        "    for col in columns:\n",
        "        if df_copy[col].std() == 0:\n",
        "            continue\n",
        "        z_scores = (df_copy[col] - df_copy[col].mean()) / df_copy[col].std()\n",
        "        df_copy = df_copy[np.abs(z_scores) < z_thresh]\n",
        "    return df_copy\n",
        "\n",
        "# FUNCTION 3\n",
        "# Encoding categorical variables effectively\n",
        "def encode_categoricals(df, drop_first=True):\n",
        "    df_encoded = pd.get_dummies(df, drop_first=drop_first)\n",
        "    return df_encoded\n",
        "\n",
        "# FUNCTION 4\n",
        "# Addressing scale differences in features\n",
        "def standardize_features(df, columns):\n",
        "    scaler = StandardScaler()\n",
        "    df_scaled = df.copy()\n",
        "    df_scaled[columns] = scaler.fit_transform(df_scaled[columns])\n",
        "    return df_scaled\n",
        "\n",
        "# Data loading and preprocessing\n",
        "df = pd.read_csv(\"icu_data_example.csv\")\n",
        "\n",
        "if 'stay_id' in df.columns:\n",
        "    df = df.drop(columns=['stay_id'])\n",
        "\n",
        "target_col = 'los'\n",
        "numeric_cols = df.select_dtypes(include=[np.number]).drop(columns=[target_col]).columns.tolist()\n",
        "categorical_cols = df.select_dtypes(include='object').columns.tolist()\n",
        "\n",
        "# Step-by-step preprocessing\n",
        "df = impute_missing(df, strategy='mean', columns=numeric_cols)\n",
        "df = remove_outliers(df, columns=numeric_cols)\n",
        "df = encode_categoricals(df, drop_first=True)\n",
        "df = standardize_features(df, columns=numeric_cols)\n",
        "\n",
        "# Final x & y values\n",
        "X = df.drop(columns=[target_col])\n",
        "y = df[target_col]\n",
        "\n",
        "X_train, X_test, y_train, y_test = train_test_split(X, y, test_size=0.2, random_state=42)\n",
        "\n",
        "# EXAMPLE: Training a linear regression model:\n",
        "model_sklearn = LinearRegression()\n",
        "model_sklearn.fit(X_train, y_train)\n",
        "\n",
        "y_pred = model_sklearn.predict(X_test)\n",
        "\n",
        "# Eval\n",
        "print(\"Test case: linear regression\")\n",
        "print(f\"  ➤ MSE: {mean_squared_error(y_test, y_pred):.2f}\")\n",
        "print(f\"  ➤ R²: {r2_score(y_test, y_pred):.2f}\")\n",
        "print(\"  ➤ Coefficients:\")\n",
        "for feature, coef in zip(X.columns, model_sklearn.coef_):\n",
        "    print(f\"     {feature}: {coef:.4f}\")"
      ]
    }
  ],
  "metadata": {
    "colab": {
      "provenance": []
    },
    "kernelspec": {
      "display_name": "Python 3",
      "name": "python3"
    },
    "language_info": {
      "codemirror_mode": {
        "name": "ipython",
        "version": 3
      },
      "file_extension": ".py",
      "mimetype": "text/x-python",
      "name": "python",
      "nbconvert_exporter": "python",
      "pygments_lexer": "ipython3",
      "version": "3.9.6"
    }
  },
  "nbformat": 4,
  "nbformat_minor": 0
}
