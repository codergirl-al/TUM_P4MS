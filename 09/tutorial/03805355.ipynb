{
  "cells": [
    {
      "cell_type": "markdown",
      "metadata": {
        "id": "WVLexlwxfHPh"
      },
      "source": [
        "# Tutorial 9: Descriptive Machine Learning\n",
        "\n",
        "## Background\n",
        "\n",
        "At Heilbronn Hospital's ICU department, the medical team is looking to develop predictive models to better estimate patient length of stay (LOS). Accurate LOS predictions are crucial for resource planning, staff scheduling, and improving patient care coordination. As a data scientist on the team, you'll use machine learning techniques to analyze historical patient data and build models that can help the hospital make more informed decisions about resource allocation and patient care management."
      ]
    },
    {
      "cell_type": "markdown",
      "metadata": {
        "id": "-G2W2cv5fM1p"
      },
      "source": [
        "1. Data Preparation: To begin our predictive modeling project, import the historical ICU data from 'icu_data_example.csv'. Following best practices in machine learning, use `scikit-learn` to split the data into training and testing sets. This split will allow us to develop our model on one portion of the data and validate its performance on unseen cases, similar to how the model would perform on future ICU admissions.\n"
      ]
    },
    {
      "cell_type": "code",
      "execution_count": 9,
      "metadata": {
        "id": "g9qHSr6zfNLy"
      },
      "outputs": [
        {
          "name": "stdout",
          "output_type": "stream",
          "text": [
            "Mean Squared Error (MSE): 6.48\n",
            "R² Score: 0.02\n"
          ]
        }
      ],
      "source": [
        "import pandas as pd\n",
        "from sklearn.model_selection import train_test_split\n",
        "from sklearn.impute import SimpleImputer\n",
        "from sklearn.preprocessing import OneHotEncoder\n",
        "from sklearn.compose import ColumnTransformer\n",
        "from sklearn.pipeline import Pipeline\n",
        "from sklearn.linear_model import LinearRegression\n",
        "from sklearn.metrics import mean_squared_error, r2_score\n",
        "\n",
        "df = pd.read_csv(\"icu_data_example.csv\")\n",
        "df = df.drop(columns=['stay_id'])\n",
        "\n",
        "X = df.drop(columns=['los'])\n",
        "y = df['los']\n",
        "\n",
        "numeric_features = X.select_dtypes(include=['int64', 'float64']).columns.tolist()\n",
        "categorical_features = X.select_dtypes(include=['object']).columns.tolist()\n",
        "\n",
        "numeric_transformer = SimpleImputer(strategy='mean')\n",
        "categorical_transformer = OneHotEncoder(drop='first')\n",
        "\n",
        "preprocessor = ColumnTransformer(\n",
        "    transformers=[\n",
        "        ('num', numeric_transformer, numeric_features),\n",
        "        ('cat', categorical_transformer, categorical_features)\n",
        "    ])\n",
        "\n",
        "pipeline = Pipeline(steps=[\n",
        "    ('preprocessor', preprocessor),\n",
        "    ('model', LinearRegression())\n",
        "])\n",
        "\n",
        "X_train, X_test, y_train, y_test = train_test_split(X, y, test_size=0.2, random_state=42)\n",
        "\n",
        "pipeline.fit(X_train, y_train)\n",
        "\n",
        "y_pred = pipeline.predict(X_test)\n",
        "\n",
        "mse = mean_squared_error(y_test, y_pred)\n",
        "r2 = r2_score(y_test, y_pred)\n",
        "\n",
        "print(f\"Mean Squared Error (MSE): {mse:.2f}\")\n",
        "print(f\"R² Score: {r2:.2f}\")\n"
      ]
    },
    {
      "cell_type": "markdown",
      "metadata": {
        "id": "0igxBM8mfOVt"
      },
      "source": [
        "2. Initial Model Development: The ICU team wants to understand how patient characteristics influence length of stay. Using `scikit-learn`, implement a simple linear regression model to predict the 'los' (length of stay) based on key patient metrics such as age and weight. This baseline model will help us identify the most significant factors affecting a patient's hospital stay duration.\n"
      ]
    },
    {
      "cell_type": "code",
      "execution_count": null,
      "metadata": {
        "id": "WCvLyUw3fOlz"
      },
      "outputs": [
        {
          "name": "stdout",
          "output_type": "stream",
          "text": [
            "Linear Regression using age and weight\n",
            "Mean Squared Error (MSE): 6.59\n",
            "R² Score: -0.00\n",
            "Model Coefficients:\n",
            "  Age coefficient: 0.0021\n",
            "  Weight coefficient: 0.0061\n",
            "  Intercept: 2.0473\n"
          ]
        }
      ],
      "source": [
        "import pandas as pd\n",
        "from sklearn.linear_model import LinearRegression\n",
        "from sklearn.model_selection import train_test_split\n",
        "from sklearn.metrics import mean_squared_error, r2_score\n",
        "\n",
        "df = pd.read_csv(\"icu_data_example.csv\")\n",
        "\n",
        "X = df[['age', 'weight']]\n",
        "y = df['los']\n",
        "\n",
        "X = X.fillna(X.mean())\n",
        "\n",
        "X_train, X_test, y_train, y_test = train_test_split(X, y, test_size=0.2, random_state=42)\n",
        "\n",
        "model = LinearRegression()\n",
        "model.fit(X_train, y_train)\n",
        "\n",
        "y_pred = model.predict(X_test)\n",
        "\n",
        "mse = mean_squared_error(y_test, y_pred)\n",
        "r2 = r2_score(y_test, y_pred)\n",
        "\n",
        "print(\"Linear Regression using age and weight\")\n",
        "print(f\"Mean Squared Error (MSE): {mse:.2f}\")\n",
        "print(f\"R² Score: {r2:.2f}\")\n",
        "print(\"Model Coefficients:\")\n",
        "print(f\"  Age coefficient: {model.coef_[0]:.4f}\")\n",
        "print(f\"  Weight coefficient: {model.coef_[1]:.4f}\")\n",
        "print(f\"  Intercept: {model.intercept_:.4f}\")"
      ]
    },
    {
      "cell_type": "markdown",
      "metadata": {
        "id": "prfbvs2xfPsh"
      },
      "source": [
        "3. Model Evaluation: To assess how well our model might perform in real-world scenarios, evaluate its predictions on the testing data using the mean squared error metric. This will give the medical team a concrete measure of the model's accuracy in predicting length of stay, helping them understand the reliability of the predictions for resource planning.\n"
      ]
    },
    {
      "cell_type": "markdown",
      "metadata": {
        "id": "Rak-e6ewfS1C"
      },
      "source": [
        "- Optional Investigation: The medical team is particularly interested in understanding which patient characteristics have the strongest influence on length of stay. How can we examine the detailed model coefficients to identify these key factors?\n"
      ]
    },
    {
      "cell_type": "code",
      "execution_count": 11,
      "metadata": {
        "id": "-YVnYbW_fRG6"
      },
      "outputs": [
        {
          "name": "stdout",
          "output_type": "stream",
          "text": [
            "Model Evaluation on Test Data\n",
            "Mean Squared Error (MSE): 6.59\n"
          ]
        }
      ],
      "source": [
        "from sklearn.metrics import mean_squared_error\n",
        "\n",
        "mse = mean_squared_error(y_test, y_pred)\n",
        "\n",
        "print(\"Model Evaluation on Test Data\")\n",
        "print(f\"Mean Squared Error (MSE): {mse:.2f}\")"
      ]
    },
    {
      "cell_type": "markdown",
      "metadata": {
        "id": "HOTWU8u0fUkI"
      },
      "source": [
        "4. Advanced Statistical Analysis: For a more detailed statistical analysis, use `StatsModels` to fit another linear regression model. This library will provide additional statistical insights that the medical team can use to validate their clinical assumptions about factors affecting length of stay.\n"
      ]
    },
    {
      "cell_type": "code",
      "execution_count": 12,
      "metadata": {
        "id": "yA9vExIFfU5c"
      },
      "outputs": [
        {
          "name": "stdout",
          "output_type": "stream",
          "text": [
            "                            OLS Regression Results                            \n",
            "==============================================================================\n",
            "Dep. Variable:                    los   R-squared:                       0.002\n",
            "Model:                            OLS   Adj. R-squared:                  0.002\n",
            "Method:                 Least Squares   F-statistic:                     3.330\n",
            "Date:                Sat, 12 Jul 2025   Prob (F-statistic):             0.0359\n",
            "Time:                        22:14:30   Log-Likelihood:                -7080.5\n",
            "No. Observations:                3000   AIC:                         1.417e+04\n",
            "Df Residuals:                    2997   BIC:                         1.418e+04\n",
            "Df Model:                           2                                         \n",
            "Covariance Type:            nonrobust                                         \n",
            "==============================================================================\n",
            "                 coef    std err          t      P>|t|      [0.025      0.975]\n",
            "------------------------------------------------------------------------------\n",
            "const          2.0323      0.271      7.503      0.000       1.501       2.563\n",
            "age            0.0036      0.003      1.272      0.203      -0.002       0.009\n",
            "weight         0.0051      0.002      2.428      0.015       0.001       0.009\n",
            "==============================================================================\n",
            "Omnibus:                     1338.739   Durbin-Watson:                   2.049\n",
            "Prob(Omnibus):                  0.000   Jarque-Bera (JB):             5785.407\n",
            "Skew:                           2.204   Prob(JB):                         0.00\n",
            "Kurtosis:                       8.182   Cond. No.                         607.\n",
            "==============================================================================\n",
            "\n",
            "Notes:\n",
            "[1] Standard Errors assume that the covariance matrix of the errors is correctly specified.\n"
          ]
        }
      ],
      "source": [
        "import pandas as pd\n",
        "import statsmodels.api as sm\n",
        "\n",
        "df = pd.read_csv(\"icu_data_example.csv\")\n",
        "\n",
        "X = df[['age', 'weight']]\n",
        "y = df['los']\n",
        "\n",
        "X = X.fillna(X.mean())\n",
        "y = y.fillna(y.mean())\n",
        "\n",
        "X_with_const = sm.add_constant(X)\n",
        "\n",
        "model = sm.OLS(y, X_with_const).fit()\n",
        "\n",
        "print(model.summary())"
      ]
    },
    {
      "cell_type": "markdown",
      "metadata": {
        "id": "wpK-sjaqfV7t"
      },
      "source": [
        "5. Clinical Interpretation: The hospital's research team needs a detailed interpretation of how each patient factor affects length of stay. Analyze the regression coefficients, discuss their statistical significance, and evaluate the overall model fit using the R-squared value. This analysis will help clinicians understand which patient characteristics are most predictive of extended ICU stays.\n"
      ]
    },
    {
      "cell_type": "code",
      "execution_count": 13,
      "metadata": {
        "id": "pmiaAhvNfWHa"
      },
      "outputs": [
        {
          "name": "stdout",
          "output_type": "stream",
          "text": [
            "                            OLS Regression Results                            \n",
            "==============================================================================\n",
            "Dep. Variable:                    los   R-squared:                       0.002\n",
            "Model:                            OLS   Adj. R-squared:                  0.002\n",
            "Method:                 Least Squares   F-statistic:                     3.330\n",
            "Date:                Sat, 12 Jul 2025   Prob (F-statistic):             0.0359\n",
            "Time:                        22:14:30   Log-Likelihood:                -7080.5\n",
            "No. Observations:                3000   AIC:                         1.417e+04\n",
            "Df Residuals:                    2997   BIC:                         1.418e+04\n",
            "Df Model:                           2                                         \n",
            "Covariance Type:            nonrobust                                         \n",
            "==============================================================================\n",
            "                 coef    std err          t      P>|t|      [0.025      0.975]\n",
            "------------------------------------------------------------------------------\n",
            "const          2.0323      0.271      7.503      0.000       1.501       2.563\n",
            "age            0.0036      0.003      1.272      0.203      -0.002       0.009\n",
            "weight         0.0051      0.002      2.428      0.015       0.001       0.009\n",
            "==============================================================================\n",
            "Omnibus:                     1338.739   Durbin-Watson:                   2.049\n",
            "Prob(Omnibus):                  0.000   Jarque-Bera (JB):             5785.407\n",
            "Skew:                           2.204   Prob(JB):                         0.00\n",
            "Kurtosis:                       8.182   Cond. No.                         607.\n",
            "==============================================================================\n",
            "\n",
            "Notes:\n",
            "[1] Standard Errors assume that the covariance matrix of the errors is correctly specified.\n"
          ]
        }
      ],
      "source": [
        "model = sm.OLS(y, sm.add_constant(X)).fit()\n",
        "print(model.summary())"
      ]
    },
    {
      "cell_type": "markdown",
      "metadata": {
        "id": "fNm3YJcbfXUa"
      },
      "source": [
        "6. Handling Categorical Data: The ICU dataset includes various categorical variables such as admission type and patient status. Use `Pandas` or `scikit-learn` to perform one-hot encoding on these categorical variables, making them suitable for our machine learning model while preserving their clinical significance.\n"
      ]
    },
    {
      "cell_type": "code",
      "execution_count": 14,
      "metadata": {
        "id": "L05ENQh8fXtW"
      },
      "outputs": [
        {
          "name": "stdout",
          "output_type": "stream",
          "text": [
            "Categorical columns: ['gender']\n",
            "    stay_id        los  age     weight  Heart Rate  Arterial O2 pressure  \\\n",
            "0  39571806  11.578495   44  80.149706   67.416667            120.500000   \n",
            "1  32660070   1.278322   74  85.000000   99.857143            110.742857   \n",
            "2  38333163  10.472477   63  92.487409   77.285714             98.000000   \n",
            "3  30825022   1.140208   49  84.500000   76.416667            109.800000   \n",
            "4  36534848   0.661655   76  56.381486   69.166667            102.000000   \n",
            "\n",
            "   Magnesium  HCO3 (serum)  PH (Arterial)  gender_male  \n",
            "0   1.766667           NaN       7.425000         True  \n",
            "1        NaN           NaN       7.440571        False  \n",
            "2   2.550000          25.0       7.460000         True  \n",
            "3   1.800000           NaN            NaN        False  \n",
            "4   2.000000          25.0       7.404000        False  \n"
          ]
        }
      ],
      "source": [
        "import pandas as pd\n",
        "\n",
        "df = pd.read_csv(\"icu_data_example.csv\")\n",
        "\n",
        "categorical_cols = df.select_dtypes(include='object').columns\n",
        "print(\"Categorical columns:\", categorical_cols.tolist())\n",
        "\n",
        "df_encoded = pd.get_dummies(df, columns=categorical_cols, drop_first=True)\n",
        "\n",
        "print(df_encoded.head())"
      ]
    },
    {
      "cell_type": "markdown",
      "metadata": {
        "id": "dOsfxTVdfYxb"
      },
      "source": [
        "7. Feature Standardization: Our ICU measurements (age, weight, Heart Rate, Arterial O2 pressure, Magnesium, HCO3 (serum), and PH (Arterial)) are recorded in different units and scales. Standardize these features to ensure each variable contributes appropriately to the model's predictions, preventing any single measurement from dominating the analysis due to its scale.\n"
      ]
    },
    {
      "cell_type": "code",
      "execution_count": 15,
      "metadata": {
        "id": "iMt-oskOfY_6"
      },
      "outputs": [
        {
          "name": "stdout",
          "output_type": "stream",
          "text": [
            "        age    weight  Heart Rate  Arterial O2 pressure  Magnesium  \\\n",
            "0 -1.162818 -0.045653   -1.050302             -0.414367  -0.917159   \n",
            "1  0.622166  0.167318    0.853380             -0.597428   0.000000   \n",
            "2 -0.032328  0.496083   -0.471163             -0.836506   1.721669   \n",
            "3 -0.865321  0.145364   -0.522161             -0.615117  -0.804868   \n",
            "4  0.741165 -1.089290   -0.947607             -0.761459  -0.131125   \n",
            "\n",
            "   HCO3 (serum)  PH (Arterial)  \n",
            "0 -1.072613e-15   8.065339e-01  \n",
            "1 -1.072613e-15   1.167925e+00  \n",
            "2  4.983771e-01   1.618834e+00  \n",
            "3 -1.072613e-15  -2.061335e-14  \n",
            "4  4.983771e-01   3.191539e-01  \n"
          ]
        }
      ],
      "source": [
        "import pandas as pd\n",
        "from sklearn.preprocessing import StandardScaler\n",
        "\n",
        "df = pd.read_csv(\"icu_data_example.csv\")\n",
        "\n",
        "features_to_scale = [\n",
        "    'age', 'weight', 'Heart Rate', 'Arterial O2 pressure',\n",
        "    'Magnesium', 'HCO3 (serum)', 'PH (Arterial)'\n",
        "]\n",
        "\n",
        "df_scaled = df.copy()\n",
        "df_scaled[features_to_scale] = df_scaled[features_to_scale].fillna(df_scaled[features_to_scale].mean())\n",
        "\n",
        "scaler = StandardScaler()\n",
        "df_scaled[features_to_scale] = scaler.fit_transform(df_scaled[features_to_scale])\n",
        "\n",
        "print(df_scaled[features_to_scale].head())"
      ]
    }
  ],
  "metadata": {
    "colab": {
      "provenance": []
    },
    "kernelspec": {
      "display_name": "Python 3",
      "name": "python3"
    },
    "language_info": {
      "codemirror_mode": {
        "name": "ipython",
        "version": 3
      },
      "file_extension": ".py",
      "mimetype": "text/x-python",
      "name": "python",
      "nbconvert_exporter": "python",
      "pygments_lexer": "ipython3",
      "version": "3.9.6"
    }
  },
  "nbformat": 4,
  "nbformat_minor": 0
}
